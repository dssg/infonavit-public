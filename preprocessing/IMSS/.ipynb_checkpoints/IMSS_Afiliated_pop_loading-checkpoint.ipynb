{
 "cells": [
  {
   "cell_type": "code",
   "execution_count": 3,
   "metadata": {
    "collapsed": true
   },
   "outputs": [],
   "source": [
    "import pandas as pd\n",
    "import os\n",
    "import sys\n",
    "import numpy as np"
   ]
  },
  {
   "cell_type": "code",
   "execution_count": 4,
   "metadata": {
    "collapsed": false
   },
   "outputs": [],
   "source": [
    "# Get list of IMSS files so we can start to encode their dates in a more reasonable format\n",
    "data_dir = \"/mnt/data/infonavit/IMSSAfiliatedPopulation/\"\n",
    "IMSS_files = os.listdir(data_dir)"
   ]
  },
  {
   "cell_type": "code",
   "execution_count": 5,
   "metadata": {
    "collapsed": false
   },
   "outputs": [],
   "source": [
    "IMSS_files.remove(\"Diccionaries.txt\")\n",
    "IMSS_files.remove(\"StandarizedTestScores\")"
   ]
  },
  {
   "cell_type": "code",
   "execution_count": 6,
   "metadata": {
    "collapsed": true
   },
   "outputs": [],
   "source": [
    "IMSS_files.remove(\"clean_csvs_1.py\")"
   ]
  },
  {
   "cell_type": "code",
   "execution_count": 7,
   "metadata": {
    "collapsed": true
   },
   "outputs": [],
   "source": [
    "IMSS_files.remove(\"clean_csvs_2.py\")"
   ]
  },
  {
   "cell_type": "code",
   "execution_count": 8,
   "metadata": {
    "collapsed": true
   },
   "outputs": [],
   "source": [
    "IMSS_files.remove(\"clean_csvs_3.py\")"
   ]
  },
  {
   "cell_type": "code",
   "execution_count": 9,
   "metadata": {
    "collapsed": true
   },
   "outputs": [],
   "source": [
    "IMSS_files.remove(\"clean_csvs.py\")"
   ]
  },
  {
   "cell_type": "code",
   "execution_count": 15,
   "metadata": {
    "collapsed": true
   },
   "outputs": [],
   "source": [
    "subcuenta = pd.read_csv(\"/mnt/data/infonavit/subcuenta/SUBCUENTA_OFERENTES.txt\", delimiter=\"|\")"
   ]
  },
  {
   "cell_type": "code",
   "execution_count": 52,
   "metadata": {
    "collapsed": false
   },
   "outputs": [
    {
     "data": {
      "text/plain": [
       "numpy.int64"
      ]
     },
     "execution_count": 52,
     "metadata": {},
     "output_type": "execute_result"
    }
   ],
   "source": [
    "type(subcuenta[\"CV_OFERENTE\"][0])"
   ]
  },
  {
   "cell_type": "code",
   "execution_count": 53,
   "metadata": {
    "collapsed": false
   },
   "outputs": [],
   "source": [
    "max_len = 0\n",
    "for elem in subcuenta[\"CV_CREDITO\"]:\n",
    "    elem = str(elem)\n",
    "    leng = len(elem)\n",
    "    if leng > max_len:\n",
    "        max_len = leng"
   ]
  },
  {
   "cell_type": "code",
   "execution_count": 54,
   "metadata": {
    "collapsed": false
   },
   "outputs": [
    {
     "data": {
      "text/plain": [
       "10"
      ]
     },
     "execution_count": 54,
     "metadata": {},
     "output_type": "execute_result"
    }
   ],
   "source": [
    "max_len"
   ]
  },
  {
   "cell_type": "code",
   "execution_count": 44,
   "metadata": {
    "collapsed": true
   },
   "outputs": [],
   "source": [
    "import string"
   ]
  },
  {
   "cell_type": "code",
   "execution_count": null,
   "metadata": {
    "collapsed": true
   },
   "outputs": [],
   "source": [
    "string.lower()"
   ]
  },
  {
   "cell_type": "code",
   "execution_count": 49,
   "metadata": {
    "collapsed": false
   },
   "outputs": [],
   "source": [
    "res = \"\"\n",
    "for elem in map(string.lower, list(subcuenta)):\n",
    "    res += elem + \", \""
   ]
  },
  {
   "cell_type": "code",
   "execution_count": 50,
   "metadata": {
    "collapsed": false
   },
   "outputs": [
    {
     "data": {
      "text/plain": [
       "'cv_credito, im_saldo_subcuenta, tx_oferente, cv_oferente, tx_tipo_credito, '"
      ]
     },
     "execution_count": 50,
     "metadata": {},
     "output_type": "execute_result"
    }
   ],
   "source": [
    "res"
   ]
  },
  {
   "cell_type": "code",
   "execution_count": 20,
   "metadata": {
    "collapsed": true
   },
   "outputs": [],
   "source": [
    "# Create a dict to convert them to numbers\n",
    "month_to_num = {\n",
    "    \"abr\" : 4,\n",
    "    \"abril\" : 4,\n",
    "    \"ago\" : 8,\n",
    "    \"agosto\" : 8,\n",
    "    \"dic\" : 12,\n",
    "    \"diciembre\" : 12,\n",
    "    \"ene\" : 1,\n",
    "    \"enero\" : 1,\n",
    "    \"feb\" : 2,\n",
    "    \"febrero\" : 2,\n",
    "    \"jul\" : 7,\n",
    "    \"julio\" : 7,\n",
    "    \"jun\" : 6,\n",
    "    \"junio\" : 6,\n",
    "    \"mar\" : 3,\n",
    "    \"marzo\" : 3,\n",
    "    \"may\" : 5,\n",
    "    \"mayo\" : 5,\n",
    "    \"nov\" : 11,\n",
    "    \"noviembre\" : 11,\n",
    "    \"oct\" : 10,\n",
    "    \"octubre\" : 10,\n",
    "    \"sep\" : 9,\n",
    "    \"septiembre\" : 9\n",
    "    }"
   ]
  },
  {
   "cell_type": "code",
   "execution_count": 4,
   "metadata": {
    "collapsed": true
   },
   "outputs": [
    {
     "ename": "OSError",
     "evalue": "[Errno 2] No such file or directory",
     "output_type": "error",
     "traceback": [
      "\u001b[1;31m---------------------------------------------------------------------------\u001b[0m",
      "\u001b[1;31mOSError\u001b[0m                                   Traceback (most recent call last)",
      "\u001b[1;32m<ipython-input-4-d521a3aa9679>\u001b[0m in \u001b[0;36m<module>\u001b[1;34m()\u001b[0m\n\u001b[0;32m      4\u001b[0m \u001b[1;32mfor\u001b[0m \u001b[0mf\u001b[0m \u001b[1;32min\u001b[0m \u001b[0mIMSS_files\u001b[0m\u001b[1;33m:\u001b[0m\u001b[1;33m\u001b[0m\u001b[0m\n\u001b[0;32m      5\u001b[0m     \u001b[1;32mif\u001b[0m \u001b[0mf\u001b[0m\u001b[1;33m.\u001b[0m\u001b[0msplit\u001b[0m\u001b[1;33m(\u001b[0m\u001b[1;34m'.'\u001b[0m\u001b[1;33m)\u001b[0m\u001b[1;33m[\u001b[0m\u001b[1;36m0\u001b[0m\u001b[1;33m]\u001b[0m\u001b[1;33m[\u001b[0m\u001b[1;33m-\u001b[0m\u001b[1;36m2\u001b[0m\u001b[1;33m]\u001b[0m \u001b[1;33m==\u001b[0m \u001b[1;34m\"_\"\u001b[0m\u001b[1;33m:\u001b[0m\u001b[1;33m\u001b[0m\u001b[0m\n\u001b[1;32m----> 6\u001b[1;33m         \u001b[0mos\u001b[0m\u001b[1;33m.\u001b[0m\u001b[0mrename\u001b[0m\u001b[1;33m(\u001b[0m\u001b[0mf\u001b[0m\u001b[1;33m,\u001b[0m \u001b[0mf\u001b[0m\u001b[1;33m.\u001b[0m\u001b[0msplit\u001b[0m\u001b[1;33m(\u001b[0m\u001b[1;34m'.'\u001b[0m\u001b[1;33m)\u001b[0m\u001b[1;33m[\u001b[0m\u001b[1;36m0\u001b[0m\u001b[1;33m]\u001b[0m\u001b[1;33m[\u001b[0m\u001b[1;33m:\u001b[0m\u001b[1;33m-\u001b[0m\u001b[1;36m2\u001b[0m\u001b[1;33m]\u001b[0m \u001b[1;33m+\u001b[0m \u001b[1;34m\".csv\"\u001b[0m\u001b[1;33m)\u001b[0m\u001b[1;33m\u001b[0m\u001b[0m\n\u001b[0m",
      "\u001b[1;31mOSError\u001b[0m: [Errno 2] No such file or directory"
     ]
    }
   ],
   "source": [
    "# Remove _# endings\n",
    "fixed_IMSS_files = IMSS_files\n",
    "\n",
    "for f in IMSS_files:\n",
    "    if f.split('.')[0][-2] == \"_\":\n",
    "        os.rename(data_dir + f, data_dir + f.split('.')[0][:-2] + \".csv\")"
   ]
  },
  {
   "cell_type": "code",
   "execution_count": 19,
   "metadata": {
    "collapsed": true
   },
   "outputs": [
    {
     "name": "stdout",
     "output_type": "stream",
     "text": [
      "30-04-15.csv\n",
      "28-02-09.csv\n",
      "30-11-11.csv\n",
      "31-01-11.csv\n",
      "31-03-10.csv\n",
      "28-02-13.csv\n",
      "31-03-12.csv\n",
      "31-01-09.csv\n",
      "28-02-14.csv\n",
      "31-07-13.csv\n",
      "31-03-13.csv\n",
      "30-11-14.csv\n",
      "31-08-12.csv\n",
      "31-08-11.csv\n",
      "31-05-09.csv\n",
      "31-05-11.csv\n",
      "31-08-13.csv\n",
      "31-10-14.csv\n",
      "30-09-10.csv\n",
      "31-03-14.csv\n",
      "31-03-09.csv\n",
      "31-03-11.csv\n",
      "31-07-10.csv\n",
      "30-04-13.csv\n",
      "31-01-13.csv\n",
      "30-06-13.csv\n",
      "30-06-09.csv\n",
      "31-10-11.csv\n",
      "31-08-10.csv\n",
      "30-04-12.csv\n",
      "31-10-09.csv\n",
      "30-06-10.csv\n",
      "30-11-10.csv\n",
      "31-12-13.csv\n",
      "31-01-14.csv\n",
      "28-02-15.csv\n",
      "31-03-15.csv\n",
      "30-11-12.csv\n",
      "30-09-13.csv\n",
      "30-09-09.csv\n",
      "31-08-09.csv\n",
      "30-06-14.csv\n",
      "31-12-10.csv\n",
      "30-04-09.csv\n",
      "28-02-10.csv\n",
      "28-02-11.csv\n",
      "29-02-12.csv\n",
      "30-04-14.csv\n",
      "30-04-10.csv\n",
      "30-04-11.csv\n",
      "30-06-11.csv\n",
      "30-06-12.csv\n",
      "30-11-09.csv\n",
      "30-11-13.csv\n",
      "30-09-14.csv\n",
      "30-09-11.csv\n",
      "30-09-12.csv\n",
      "31-08-14.csv\n",
      "31-12-09.csv\n",
      "31-12-12.csv\n",
      "31-12-14.csv\n",
      "31-12-11.csv\n",
      "31-01-15.csv\n",
      "31-01-10.csv\n",
      "31-01-12.csv\n",
      "31-07-09.csv\n",
      "31-07-14.csv\n",
      "31-07-11.csv\n",
      "31-07-12.csv\n",
      "31-05-13.csv\n",
      "31-05-14.csv\n",
      "31-05-10.csv\n",
      "31-05-12.csv\n",
      "31-10-13.csv\n",
      "31-10-10.csv\n",
      "31-10-12.csv\n"
     ]
    }
   ],
   "source": [
    "# All encoded as day month year\n",
    "for f in IMSS_files:\n",
    "    day = f.split(\"-\")[0]\n",
    "    month = month_to_num[f.split(\"-\")[1].lower()]\n",
    "    year = f.split(\"-\")[2][-6:-4]\n",
    "    os.rename(f, \"%02d-%02d-%02d.csv\" % (int(day), int(month), int(year)))"
   ]
  },
  {
   "cell_type": "code",
   "execution_count": 17,
   "metadata": {
    "collapsed": true
   },
   "outputs": [],
   "source": [
    "headers = ['cve_delegacion', 'cve_subdelegacion', 'cve_entidad', 'cve_municipio', 'sector_economico_1', 'sector_economico_2', 'sector_economico_4', 'tama\\xf1o_patron', 'sexo', 'rango_edad', 'rango_salarial', 'asegurados', 'no_trabajadores', 'ta', 'teu', 'tec', 'tpu', 'tpc', 'ta_sal', 'teu_sal', 'tec_sal', 'tpu_sal', 'tpc_sal', 'masa_sal_ta', 'masa_sal_teu', 'masa_sal_tec', 'masa_sal_tpu', 'masa_sal_tpc', 'patrones']"
   ]
  },
  {
   "cell_type": "code",
   "execution_count": 18,
   "metadata": {
    "collapsed": true
   },
   "outputs": [],
   "source": [
    "import re"
   ]
  },
  {
   "cell_type": "code",
   "execution_count": 16,
   "metadata": {
    "collapsed": true
   },
   "outputs": [
    {
     "name": "stdout",
     "output_type": "stream",
     "text": [
      "[]\n",
      "not eq to\n",
      "['cve_delegacion', 'cve_subdelegacion', 'cve_entidad', 'cve_municipio', 'sector_economico_1', 'sector_economico_2', 'sector_economico_4', 'tama\\xf1o_patron', 'sexo', 'rango_edad', 'rango_salarial', 'asegurados', 'no_trabajadores', 'ta', 'teu', 'tec', 'tpu', 'tpc', 'ta_sal', 'teu_sal', 'tec_sal', 'tpu_sal', 'tpc_sal', 'masa_sal_ta', 'masa_sal_teu', 'masa_sal_tec', 'masa_sal_tpu', 'masa_sal_tpc', 'patrones']\n",
      "headers matched\n",
      "headers matched\n",
      "headers matched\n",
      "headers matched\n",
      "['cve_delegacion', 'cve_subdelegacion', 'cve_entidad', 'cve_municipio', 'sector_economico_1', 'sector_economico_2', 'sector_economico_4', 'tama\\xf1o_patron', 'sexo', 'rango_edad', 'rango_salarial', 'asegurados', 'no_trabajadores', 'ta', 'teu', 'tec', 'tpu', 'tpc', 'ta_sal', 'teu_sal', 'tec_sal', 'tpu_sal', 'tpc_sal', 'masa_sal_ta', 'masa_sal_teu', 'masa_sal_tec', 'masa_sal_tpu', 'masa_sal_tpc', 'patrones']\n",
      "not eq to\n",
      "['cve_delegacion', 'cve_subdelegacion', 'cve_entidad', 'cve_municipio', 'sector_economico_1', 'sector_economico_2', 'sector_economico_4', 'tama\\xc3\\xb1o_patron', 'sexo', 'rango_edad', 'rango_salarial', 'asegurados', 'no_trabajadores', 'ta', 'teu', 'tec', 'tpu', 'tpc', 'ta_sal', 'teu_sal', 'tec_sal', 'tpu_sal', 'tpc_sal', 'masa_sal_ta', 'masa_sal_teu', 'masa_sal_tec', 'masa_sal_tpu', 'masa_sal_tpc', 'patrones']\n",
      "['cve_delegacion', 'cve_subdelegacion', 'cve_entidad', 'cve_municipio', 'sector_economico_1', 'sector_economico_2', 'sector_economico_4', 'tama\\xc3\\xb1o_patron', 'sexo', 'rango_edad', 'rango_salarial', 'asegurados', 'no_trabajadores', 'ta', 'teu', 'tec', 'tpu', 'tpc', 'ta_sal', 'teu_sal', 'tec_sal', 'tpu_sal', 'tpc_sal', 'masa_sal_ta', 'masa_sal_teu', 'masa_sal_tec', 'masa_sal_tpu', 'masa_sal_tpc', 'patrones']\n",
      "not eq to\n",
      "['cve_delegacion', 'cve_subdelegacion', 'cve_entidad', 'cve_municipio', 'sector_economico_1', 'sector_economico_2', 'sector_economico_4', 'tama\\xf1o_patron', 'sexo', 'rango_edad', 'rango_salarial', 'asegurados', 'no_trabajadores', 'ta', 'teu', 'tec', 'tpu', 'tpc', 'ta_sal', 'teu_sal', 'tec_sal', 'tpu_sal', 'tpc_sal', 'masa_sal_ta', 'masa_sal_teu', 'masa_sal_tec', 'masa_sal_tpu', 'masa_sal_tpc', 'patrones']\n",
      "headers matched\n",
      "headers matched\n",
      "['cve_delegacion', 'cve_subdelegacion', 'cve_entidad', 'cve_municipio', 'sector_economico_1', 'sector_economico_2', 'sector_economico_4', 'tama\\xf1o_patron', 'sexo', 'rango_edad', 'rango_salarial', 'asegurados', 'no_trabajadores', 'ta', 'teu', 'tec', 'tpu', 'tpc', 'ta_sal', 'teu_sal', 'tec_sal', 'tpu_sal', 'tpc_sal', 'masa_sal_ta', 'masa_sal_teu', 'masa_sal_tec', 'masa_sal_tpu', 'masa_sal_tpc', 'patrones']\n",
      "not eq to\n",
      "['cve_delegacion', 'cve_subdelegacion', 'cve_entidad', 'cve_municipio', 'sector_economico_1', 'sector_economico_2', 'sector_economico_4', 'tama\\xc3\\xb1o_patron', 'sexo', 'rango_edad', 'rango_salarial', 'asegurados', 'no_trabajadores', 'ta', 'teu', 'tec', 'tpu', 'tpc', 'ta_sal', 'teu_sal', 'tec_sal', 'tpu_sal', 'tpc_sal', 'masa_sal_ta', 'masa_sal_teu', 'masa_sal_tec', 'masa_sal_tpu', 'masa_sal_tpc', 'patrones']\n",
      "headers matched\n",
      "['cve_delegacion', 'cve_subdelegacion', 'cve_entidad', 'cve_municipio', 'sector_economico_1', 'sector_economico_2', 'sector_economico_4', 'tama\\xc3\\xb1o_patron', 'sexo', 'rango_edad', 'rango_salarial', 'asegurados', 'no_trabajadores', 'ta', 'teu', 'tec', 'tpu', 'tpc', 'ta_sal', 'teu_sal', 'tec_sal', 'tpu_sal', 'tpc_sal', 'masa_sal_ta', 'masa_sal_teu', 'masa_sal_tec', 'masa_sal_tpu', 'masa_sal_tpc', 'patrones']\n",
      "not eq to\n",
      "['cve_delegacion', 'cve_subdelegacion', 'cve_entidad', 'cve_municipio', 'sector_economico_1', 'sector_economico_2', 'sector_economico_4', 'tama\\xf1o_patron', 'sexo', 'rango_edad', 'rango_salarial', 'asegurados', 'no_trabajadores', 'ta', 'teu', 'tec', 'tpu', 'tpc', 'ta_sal', 'teu_sal', 'tec_sal', 'tpu_sal', 'tpc_sal', 'masa_sal_ta', 'masa_sal_teu', 'masa_sal_tec', 'masa_sal_tpu', 'masa_sal_tpc', 'patrones']\n",
      "headers matched\n",
      "headers matched\n",
      "headers matched\n",
      "headers matched\n"
     ]
    },
    {
     "ename": "IOError",
     "evalue": "Initializing from file failed",
     "output_type": "error",
     "traceback": [
      "\u001b[1;31m---------------------------------------------------------------------------\u001b[0m",
      "\u001b[1;31mIOError\u001b[0m                                   Traceback (most recent call last)",
      "\u001b[1;32m<ipython-input-16-7faac1ba724b>\u001b[0m in \u001b[0;36m<module>\u001b[1;34m()\u001b[0m\n\u001b[0;32m      1\u001b[0m \u001b[0mlast_headers\u001b[0m \u001b[1;33m=\u001b[0m \u001b[1;33m[\u001b[0m\u001b[1;33m]\u001b[0m\u001b[1;33m\u001b[0m\u001b[0m\n\u001b[0;32m      2\u001b[0m \u001b[1;32mfor\u001b[0m \u001b[0mf\u001b[0m \u001b[1;32min\u001b[0m \u001b[0mIMSS_files\u001b[0m\u001b[1;33m[\u001b[0m\u001b[1;36m1\u001b[0m\u001b[1;33m:\u001b[0m\u001b[1;33m]\u001b[0m\u001b[1;33m:\u001b[0m\u001b[1;33m\u001b[0m\u001b[0m\n\u001b[1;32m----> 3\u001b[1;33m     \u001b[0mdf\u001b[0m \u001b[1;33m=\u001b[0m \u001b[0mpd\u001b[0m\u001b[1;33m.\u001b[0m\u001b[0mread_csv\u001b[0m\u001b[1;33m(\u001b[0m\u001b[0mdata_dir\u001b[0m \u001b[1;33m+\u001b[0m \u001b[0mf\u001b[0m\u001b[1;33m,\u001b[0m \u001b[0mdelimiter\u001b[0m\u001b[1;33m=\u001b[0m\u001b[1;34m\"|\"\u001b[0m\u001b[1;33m,\u001b[0m \u001b[0mnrows\u001b[0m\u001b[1;33m=\u001b[0m\u001b[1;36m1\u001b[0m\u001b[1;33m)\u001b[0m\u001b[1;33m\u001b[0m\u001b[0m\n\u001b[0m\u001b[0;32m      4\u001b[0m     \u001b[0mheaders\u001b[0m \u001b[1;33m=\u001b[0m \u001b[0mlist\u001b[0m\u001b[1;33m(\u001b[0m\u001b[0mdf\u001b[0m\u001b[1;33m)\u001b[0m\u001b[1;33m\u001b[0m\u001b[0m\n\u001b[0;32m      5\u001b[0m     \u001b[1;32mif\u001b[0m \u001b[0mlast_headers\u001b[0m \u001b[1;33m!=\u001b[0m \u001b[0mheaders\u001b[0m\u001b[1;33m:\u001b[0m\u001b[1;33m\u001b[0m\u001b[0m\n",
      "\u001b[1;32m/opt/anaconda/lib/python2.7/site-packages/pandas/io/parsers.pyc\u001b[0m in \u001b[0;36mparser_f\u001b[1;34m(filepath_or_buffer, sep, dialect, compression, doublequote, escapechar, quotechar, quoting, skipinitialspace, lineterminator, header, index_col, names, prefix, skiprows, skipfooter, skip_footer, na_values, na_fvalues, true_values, false_values, delimiter, converters, dtype, usecols, engine, delim_whitespace, as_recarray, na_filter, compact_ints, use_unsigned, low_memory, buffer_lines, warn_bad_lines, error_bad_lines, keep_default_na, thousands, comment, decimal, parse_dates, keep_date_col, dayfirst, date_parser, memory_map, float_precision, nrows, iterator, chunksize, verbose, encoding, squeeze, mangle_dupe_cols, tupleize_cols, infer_datetime_format, skip_blank_lines)\u001b[0m\n\u001b[0;32m    463\u001b[0m                     skip_blank_lines=skip_blank_lines)\n\u001b[0;32m    464\u001b[0m \u001b[1;33m\u001b[0m\u001b[0m\n\u001b[1;32m--> 465\u001b[1;33m         \u001b[1;32mreturn\u001b[0m \u001b[0m_read\u001b[0m\u001b[1;33m(\u001b[0m\u001b[0mfilepath_or_buffer\u001b[0m\u001b[1;33m,\u001b[0m \u001b[0mkwds\u001b[0m\u001b[1;33m)\u001b[0m\u001b[1;33m\u001b[0m\u001b[0m\n\u001b[0m\u001b[0;32m    466\u001b[0m \u001b[1;33m\u001b[0m\u001b[0m\n\u001b[0;32m    467\u001b[0m     \u001b[0mparser_f\u001b[0m\u001b[1;33m.\u001b[0m\u001b[0m__name__\u001b[0m \u001b[1;33m=\u001b[0m \u001b[0mname\u001b[0m\u001b[1;33m\u001b[0m\u001b[0m\n",
      "\u001b[1;32m/opt/anaconda/lib/python2.7/site-packages/pandas/io/parsers.pyc\u001b[0m in \u001b[0;36m_read\u001b[1;34m(filepath_or_buffer, kwds)\u001b[0m\n\u001b[0;32m    239\u001b[0m \u001b[1;33m\u001b[0m\u001b[0m\n\u001b[0;32m    240\u001b[0m     \u001b[1;31m# Create the parser.\u001b[0m\u001b[1;33m\u001b[0m\u001b[1;33m\u001b[0m\u001b[0m\n\u001b[1;32m--> 241\u001b[1;33m     \u001b[0mparser\u001b[0m \u001b[1;33m=\u001b[0m \u001b[0mTextFileReader\u001b[0m\u001b[1;33m(\u001b[0m\u001b[0mfilepath_or_buffer\u001b[0m\u001b[1;33m,\u001b[0m \u001b[1;33m**\u001b[0m\u001b[0mkwds\u001b[0m\u001b[1;33m)\u001b[0m\u001b[1;33m\u001b[0m\u001b[0m\n\u001b[0m\u001b[0;32m    242\u001b[0m \u001b[1;33m\u001b[0m\u001b[0m\n\u001b[0;32m    243\u001b[0m     \u001b[1;32mif\u001b[0m \u001b[1;33m(\u001b[0m\u001b[0mnrows\u001b[0m \u001b[1;32mis\u001b[0m \u001b[1;32mnot\u001b[0m \u001b[0mNone\u001b[0m\u001b[1;33m)\u001b[0m \u001b[1;32mand\u001b[0m \u001b[1;33m(\u001b[0m\u001b[0mchunksize\u001b[0m \u001b[1;32mis\u001b[0m \u001b[1;32mnot\u001b[0m \u001b[0mNone\u001b[0m\u001b[1;33m)\u001b[0m\u001b[1;33m:\u001b[0m\u001b[1;33m\u001b[0m\u001b[0m\n",
      "\u001b[1;32m/opt/anaconda/lib/python2.7/site-packages/pandas/io/parsers.pyc\u001b[0m in \u001b[0;36m__init__\u001b[1;34m(self, f, engine, **kwds)\u001b[0m\n\u001b[0;32m    555\u001b[0m             \u001b[0mself\u001b[0m\u001b[1;33m.\u001b[0m\u001b[0moptions\u001b[0m\u001b[1;33m[\u001b[0m\u001b[1;34m'has_index_names'\u001b[0m\u001b[1;33m]\u001b[0m \u001b[1;33m=\u001b[0m \u001b[0mkwds\u001b[0m\u001b[1;33m[\u001b[0m\u001b[1;34m'has_index_names'\u001b[0m\u001b[1;33m]\u001b[0m\u001b[1;33m\u001b[0m\u001b[0m\n\u001b[0;32m    556\u001b[0m \u001b[1;33m\u001b[0m\u001b[0m\n\u001b[1;32m--> 557\u001b[1;33m         \u001b[0mself\u001b[0m\u001b[1;33m.\u001b[0m\u001b[0m_make_engine\u001b[0m\u001b[1;33m(\u001b[0m\u001b[0mself\u001b[0m\u001b[1;33m.\u001b[0m\u001b[0mengine\u001b[0m\u001b[1;33m)\u001b[0m\u001b[1;33m\u001b[0m\u001b[0m\n\u001b[0m\u001b[0;32m    558\u001b[0m \u001b[1;33m\u001b[0m\u001b[0m\n\u001b[0;32m    559\u001b[0m     \u001b[1;32mdef\u001b[0m \u001b[0m_get_options_with_defaults\u001b[0m\u001b[1;33m(\u001b[0m\u001b[0mself\u001b[0m\u001b[1;33m,\u001b[0m \u001b[0mengine\u001b[0m\u001b[1;33m)\u001b[0m\u001b[1;33m:\u001b[0m\u001b[1;33m\u001b[0m\u001b[0m\n",
      "\u001b[1;32m/opt/anaconda/lib/python2.7/site-packages/pandas/io/parsers.pyc\u001b[0m in \u001b[0;36m_make_engine\u001b[1;34m(self, engine)\u001b[0m\n\u001b[0;32m    692\u001b[0m     \u001b[1;32mdef\u001b[0m \u001b[0m_make_engine\u001b[0m\u001b[1;33m(\u001b[0m\u001b[0mself\u001b[0m\u001b[1;33m,\u001b[0m \u001b[0mengine\u001b[0m\u001b[1;33m=\u001b[0m\u001b[1;34m'c'\u001b[0m\u001b[1;33m)\u001b[0m\u001b[1;33m:\u001b[0m\u001b[1;33m\u001b[0m\u001b[0m\n\u001b[0;32m    693\u001b[0m         \u001b[1;32mif\u001b[0m \u001b[0mengine\u001b[0m \u001b[1;33m==\u001b[0m \u001b[1;34m'c'\u001b[0m\u001b[1;33m:\u001b[0m\u001b[1;33m\u001b[0m\u001b[0m\n\u001b[1;32m--> 694\u001b[1;33m             \u001b[0mself\u001b[0m\u001b[1;33m.\u001b[0m\u001b[0m_engine\u001b[0m \u001b[1;33m=\u001b[0m \u001b[0mCParserWrapper\u001b[0m\u001b[1;33m(\u001b[0m\u001b[0mself\u001b[0m\u001b[1;33m.\u001b[0m\u001b[0mf\u001b[0m\u001b[1;33m,\u001b[0m \u001b[1;33m**\u001b[0m\u001b[0mself\u001b[0m\u001b[1;33m.\u001b[0m\u001b[0moptions\u001b[0m\u001b[1;33m)\u001b[0m\u001b[1;33m\u001b[0m\u001b[0m\n\u001b[0m\u001b[0;32m    695\u001b[0m         \u001b[1;32melse\u001b[0m\u001b[1;33m:\u001b[0m\u001b[1;33m\u001b[0m\u001b[0m\n\u001b[0;32m    696\u001b[0m             \u001b[1;32mif\u001b[0m \u001b[0mengine\u001b[0m \u001b[1;33m==\u001b[0m \u001b[1;34m'python'\u001b[0m\u001b[1;33m:\u001b[0m\u001b[1;33m\u001b[0m\u001b[0m\n",
      "\u001b[1;32m/opt/anaconda/lib/python2.7/site-packages/pandas/io/parsers.pyc\u001b[0m in \u001b[0;36m__init__\u001b[1;34m(self, src, **kwds)\u001b[0m\n\u001b[0;32m   1059\u001b[0m         \u001b[0mkwds\u001b[0m\u001b[1;33m[\u001b[0m\u001b[1;34m'allow_leading_cols'\u001b[0m\u001b[1;33m]\u001b[0m \u001b[1;33m=\u001b[0m \u001b[0mself\u001b[0m\u001b[1;33m.\u001b[0m\u001b[0mindex_col\u001b[0m \u001b[1;32mis\u001b[0m \u001b[1;32mnot\u001b[0m \u001b[0mFalse\u001b[0m\u001b[1;33m\u001b[0m\u001b[0m\n\u001b[0;32m   1060\u001b[0m \u001b[1;33m\u001b[0m\u001b[0m\n\u001b[1;32m-> 1061\u001b[1;33m         \u001b[0mself\u001b[0m\u001b[1;33m.\u001b[0m\u001b[0m_reader\u001b[0m \u001b[1;33m=\u001b[0m \u001b[0m_parser\u001b[0m\u001b[1;33m.\u001b[0m\u001b[0mTextReader\u001b[0m\u001b[1;33m(\u001b[0m\u001b[0msrc\u001b[0m\u001b[1;33m,\u001b[0m \u001b[1;33m**\u001b[0m\u001b[0mkwds\u001b[0m\u001b[1;33m)\u001b[0m\u001b[1;33m\u001b[0m\u001b[0m\n\u001b[0m\u001b[0;32m   1062\u001b[0m \u001b[1;33m\u001b[0m\u001b[0m\n\u001b[0;32m   1063\u001b[0m         \u001b[1;31m# XXX\u001b[0m\u001b[1;33m\u001b[0m\u001b[1;33m\u001b[0m\u001b[0m\n",
      "\u001b[1;32mpandas/parser.pyx\u001b[0m in \u001b[0;36mpandas.parser.TextReader.__cinit__ (pandas/parser.c:3163)\u001b[1;34m()\u001b[0m\n",
      "\u001b[1;32mpandas/parser.pyx\u001b[0m in \u001b[0;36mpandas.parser.TextReader._setup_parser_source (pandas/parser.c:5793)\u001b[1;34m()\u001b[0m\n",
      "\u001b[1;31mIOError\u001b[0m: Initializing from file failed"
     ]
    }
   ],
   "source": [
    "last_headers = []\n",
    "for f in IMSS_files[1:]:\n",
    "    df = pd.read_csv(data_dir + f, delimiter=\"|\", nrows=1)\n",
    "    headers = list(df)\n",
    "    if last_headers != headers:\n",
    "        print last_headers \n",
    "        print \"not eq to\"\n",
    "        print headers\n",
    "    else:\n",
    "        print \"headers matched\"\n",
    "    last_headers = headers"
   ]
  },
  {
   "cell_type": "code",
   "execution_count": 4,
   "metadata": {
    "collapsed": true
   },
   "outputs": [],
   "source": [
    "import datetime"
   ]
  },
  {
   "cell_type": "code",
   "execution_count": 6,
   "metadata": {
    "collapsed": false
   },
   "outputs": [
    {
     "data": {
      "text/plain": [
       "'30-04-15_pd.csv'"
      ]
     },
     "execution_count": 6,
     "metadata": {},
     "output_type": "execute_result"
    }
   ],
   "source": [
    "IMSS_files[0]"
   ]
  },
  {
   "cell_type": "code",
   "execution_count": 24,
   "metadata": {
    "collapsed": false
   },
   "outputs": [
    {
     "data": {
      "text/plain": [
       "['cve_delegacion',\n",
       " 'cve_subdelegacion',\n",
       " 'cve_entidad',\n",
       " 'cve_municipio',\n",
       " 'sector_economico_1',\n",
       " 'sector_economico_2',\n",
       " 'sector_economico_4',\n",
       " 'tama\\xf1o_patron',\n",
       " 'sexo',\n",
       " 'rango_edad',\n",
       " 'rango_salarial',\n",
       " 'asegurados',\n",
       " 'no_trabajadores',\n",
       " 'ta',\n",
       " 'teu',\n",
       " 'tec',\n",
       " 'tpu',\n",
       " 'tpc',\n",
       " 'ta_sal',\n",
       " 'teu_sal',\n",
       " 'tec_sal',\n",
       " 'tpu_sal',\n",
       " 'tpc_sal',\n",
       " 'masa_sal_ta',\n",
       " 'masa_sal_teu',\n",
       " 'masa_sal_tec',\n",
       " 'masa_sal_tpu',\n",
       " 'masa_sal_tpc',\n",
       " 'patrones']"
      ]
     },
     "execution_count": 24,
     "metadata": {},
     "output_type": "execute_result"
    }
   ],
   "source": [
    "list(df)"
   ]
  },
  {
   "cell_type": "code",
   "execution_count": 8,
   "metadata": {
    "collapsed": false,
    "scrolled": true
   },
   "outputs": [
    {
     "data": {
      "text/plain": [
       "(3551940, 29)"
      ]
     },
     "execution_count": 8,
     "metadata": {},
     "output_type": "execute_result"
    }
   ],
   "source": [
    "df.shape"
   ]
  },
  {
   "cell_type": "code",
   "execution_count": 27,
   "metadata": {
    "collapsed": false
   },
   "outputs": [
    {
     "data": {
      "text/plain": [
       "'28-02-09.csv'"
      ]
     },
     "execution_count": 27,
     "metadata": {},
     "output_type": "execute_result"
    }
   ],
   "source": [
    "IMSS_files[2]"
   ]
  },
  {
   "cell_type": "code",
   "execution_count": null,
   "metadata": {
    "collapsed": true
   },
   "outputs": [],
   "source": [
    "import pandas as pd\n",
    "import os\n",
    "import sys\n",
    "import numpy as np\n",
    "import datetime\n",
    "\n",
    "data_dir = \"/mnt/data/infonavit/Box/DSSG_Mexico/IMSSAfiliatedPopulation/\"\n",
    "IMSS_files = os.listdir(data_dir)\n",
    "IMSS_files.remove(\"Diccionaries.txt\")\n",
    "IMSS_files.remove(\"StandarizedTestScores\")\n",
    "IMSS_files.remove(\"clean_csvs.py\")\n",
    "\n",
    "for IMSS_file in IMSS_files:\n",
    "    print \"Reading in file: {}\".format(IMSS_file)\n",
    "    df = pd.read_csv(data_dir + IMSS_file, delimiter=\"|\")\n",
    "    day = int(IMSS_file.split('-')[0])\n",
    "    month = int(IMSS_file.split('-')[1])\n",
    "    year = int(\"20\" + IMSS_file.split('-')[2][:-4])\n",
    "    df[\"date\"] = pd.Series([datetime.datetime(year, month, day)]*df.shape[0], index=df.index)\n",
    "\n",
    "    # Fix unicode error in header\n",
    "    headers = list(df)\n",
    "    headers[7] = \"tamano_patron\"\n",
    "\n",
    "    print \"Writing fixed csv to file: {}\".format(data_dir + IMSS_file[:-4] + \"_pd.csv\")\n",
    "    df.to_csv(data_dir + IMSS_file[:-4] + \"_pd.csv\", index=False, header=headers)"
   ]
  },
  {
   "cell_type": "code",
   "execution_count": null,
   "metadata": {
    "collapsed": false
   },
   "outputs": [],
   "source": [
    "import pandas as pd\n",
    "import os\n",
    "import sys\n",
    "import numpy as np\n",
    "import datetime\n",
    "\n",
    "data_dir = \"/mnt/data/infonavit/Box/DSSG_Mexico/IMSSAfiliatedPopulation/\"\n",
    "IMSS_files = os.listdir(data_dir)\n",
    "IMSS_files.remove(\"Diccionaries.txt\")\n",
    "IMSS_files.remove(\"StandarizedTestScores\")\n",
    "\n",
    "for IMSS_file in IMSS_files:\n",
    "    #print data_dir + IMSS_file\n",
    "    df = pd.read_csv(data_dir + IMSS_file, delimiter=\"|\")\n",
    "    day = int(IMSS_file.split('-')[0])\n",
    "    month = int(IMSS_file.split('-')[1])\n",
    "    year = int(\"20\" + IMSS_file.split('-')[2][:-4])\n",
    "    df[\"date\"] = pd.Series([datetime.datetime(year, month, day)]*df.shape[0], index=df.index)\n",
    "\n",
    "    headers = list(df)\n",
    "    headers[7] = \"tamano_patron\"\n",
    "\n",
    "    df.to_csv(data_dir + IMSS_file[:-4] + \"_pd.csv\", index=False, header=headers)"
   ]
  }
 ],
 "metadata": {
  "kernelspec": {
   "display_name": "Python 2",
   "language": "python",
   "name": "python2"
  },
  "language_info": {
   "codemirror_mode": {
    "name": "ipython",
    "version": 2
   },
   "file_extension": ".py",
   "mimetype": "text/x-python",
   "name": "python",
   "nbconvert_exporter": "python",
   "pygments_lexer": "ipython2",
   "version": "2.7.8"
  }
 },
 "nbformat": 4,
 "nbformat_minor": 0
}
