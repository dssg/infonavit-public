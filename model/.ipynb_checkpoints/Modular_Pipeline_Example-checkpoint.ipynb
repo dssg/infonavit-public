{
 "cells": [
  {
   "cell_type": "code",
   "execution_count": 1,
   "metadata": {
    "collapsed": true
   },
   "outputs": [],
   "source": [
    "from sklearn import ensemble, svm"
   ]
  },
  {
   "cell_type": "code",
   "execution_count": 2,
   "metadata": {
    "collapsed": false
   },
   "outputs": [
    {
     "name": "stderr",
     "output_type": "stream",
     "text": [
      "Vendor:  Continuum Analytics, Inc.\n",
      "Package: iopro\n",
      "Message: trial mode expires in 24 days\n"
     ]
    }
   ],
   "source": [
    "# Add pipeline_src to include path\n",
    "import sys\n",
    "path = \"../pipeline_src/\"\n",
    "if not path in sys.path:\n",
    "    sys.path.insert(1, path)\n",
    "del path\n",
    "\n",
    "from experiment import Experiment"
   ]
  },
  {
   "cell_type": "code",
   "execution_count": 3,
   "metadata": {
    "collapsed": true
   },
   "outputs": [],
   "source": [
    "import numpy as np\n",
    "import pandas as pd"
   ]
  },
  {
   "cell_type": "code",
   "execution_count": 4,
   "metadata": {
    "collapsed": false
   },
   "outputs": [],
   "source": [
    "exp = Experiment()"
   ]
  },
  {
   "cell_type": "code",
   "execution_count": 5,
   "metadata": {
    "collapsed": false
   },
   "outputs": [
    {
     "name": "stdout",
     "output_type": "stream",
     "text": [
      "Loading training data from file /mnt/scratch/master_loan_features_v41.comp.h5...\n",
      "Training Data loaded.\n",
      "Loading Testing data...\n",
      "Data loading complete\n",
      ".x_train.shape = (3401389, 598)\n",
      ".y_train.shape = (3401389,)\n",
      ".x_test.shape = (1570992, 598)\n",
      ".y_test.shape = (1570992,)\n"
     ]
    }
   ],
   "source": [
    "exp.hdf_file = '/mnt/scratch/master_loan_features_v41.comp.h5'\n",
    "exp.load_data_hdf(train_range=(2008, 2012), \n",
    "                  test_range=(2012, 2013), \n",
    "                  past=True, \n",
    "                  all_years=True)"
   ]
  },
  {
   "cell_type": "code",
   "execution_count": 6,
   "metadata": {
    "collapsed": true
   },
   "outputs": [],
   "source": [
    "regimen_train = exp.x_train['regimen']\n",
    "regimen_test = exp.x_test['regimen']"
   ]
  },
  {
   "cell_type": "code",
   "execution_count": 7,
   "metadata": {
    "collapsed": false
   },
   "outputs": [],
   "source": [
    "colonias_train = exp.x_train['coloniaid'] \n",
    "colonias_test = exp.x_test['coloniaid']"
   ]
  },
  {
   "cell_type": "code",
   "execution_count": 8,
   "metadata": {
    "collapsed": true
   },
   "outputs": [],
   "source": [
    "cve_train = exp.x_train['cve']\n",
    "cve_test = exp.x_test['cve']"
   ]
  },
  {
   "cell_type": "code",
   "execution_count": 9,
   "metadata": {
    "collapsed": true
   },
   "outputs": [],
   "source": [
    "#### Create a list of columns that won't be used in prediction to drop\n",
    "non_features = ['cv_credito',\n",
    "                'coloniaid',\n",
    "                'nom_mun',\n",
    "                'mun_region',\n",
    "                'mun_geo_zone',\n",
    "                'year_granted',\n",
    "                'cve',\n",
    "                'abandoned',\n",
    "                'abandoned_y',\n",
    "                'abandoned_ever_y',\n",
    "                'abandon_year',\n",
    "                'abandon_month',\n",
    "                'cur_year',\n",
    "                'past',\n",
    "                'regimen',\n",
    "                'loan_has_subsudy',\n",
    "                'loan_voluntary_contrib_bool']\n",
    "\n",
    "non_quantize_features = ['years_since_granted', \n",
    "                         'personal_married', \n",
    "                         'personal_gender',\n",
    "                         'loan_joint'] \n",
    "\n",
    "encode_features = ['personal_gender',\n",
    "                   'personal_married',\n",
    "                   'loan_building_type']"
   ]
  },
  {
   "cell_type": "code",
   "execution_count": 10,
   "metadata": {
    "collapsed": false
   },
   "outputs": [
    {
     "name": "stdout",
     "output_type": "stream",
     "text": [
      "Original shape before dropping columns:\n",
      ".x_train.shape = (3401389, 598)\n",
      ".y_train.shape = (3401389,)\n",
      ".x_test.shape = (1570992, 598)\n",
      ".y_test.shape = (1570992,)\n",
      "Column \"abandoned_y\" not found in x_train... passing...\n",
      "Column \"abandoned_y\" not found in x_test... passing...\n",
      "New shape after dropping:\n",
      ".x_train.shape = (3401389, 582)\n",
      ".y_train.shape = (3401389,)\n",
      ".x_test.shape = (1570992, 582)\n",
      ".y_test.shape = (1570992,)\n",
      "Original shape of dataframes before dropping NA's:\n",
      ".x_train.shape = (3401389, 582)\n",
      ".y_train.shape = (3401389,)\n",
      ".x_test.shape = (1570992, 582)\n",
      ".y_test.shape = (1570992,)\n",
      "New shape after dropping:\n",
      ".x_train.shape = (1284875, 583)\n",
      ".y_train.shape = (1284875,)\n",
      ".x_test.shape = (930424, 583)\n",
      ".y_test.shape = (930424,)\n",
      "Original shape before dropping columns:\n",
      ".x_train.shape = (1284875, 583)\n",
      ".y_train.shape = (1284875,)\n",
      ".x_test.shape = (930424, 583)\n",
      ".y_test.shape = (930424,)\n",
      "Column \"cv_credito\" not found in x_train... passing...\n",
      "Column \"cv_credito\" not found in x_test... passing...\n",
      "Column \"coloniaid\" not found in x_train... passing...\n",
      "Column \"coloniaid\" not found in x_test... passing...\n",
      "Column \"nom_mun\" not found in x_train... passing...\n",
      "Column \"nom_mun\" not found in x_test... passing...\n",
      "Column \"mun_region\" not found in x_train... passing...\n",
      "Column \"mun_region\" not found in x_test... passing...\n",
      "Column \"mun_geo_zone\" not found in x_train... passing...\n",
      "Column \"mun_geo_zone\" not found in x_test... passing...\n",
      "Column \"year_granted\" not found in x_train... passing...\n",
      "Column \"year_granted\" not found in x_test... passing...\n",
      "Column \"cve\" not found in x_train... passing...\n",
      "Column \"cve\" not found in x_test... passing...\n",
      "Column \"abandoned\" not found in x_train... passing...\n",
      "Column \"abandoned\" not found in x_test... passing...\n",
      "Column \"abandoned_ever_y\" not found in x_train... passing...\n",
      "Column \"abandoned_ever_y\" not found in x_test... passing...\n",
      "Column \"abandon_year\" not found in x_train... passing...\n",
      "Column \"abandon_year\" not found in x_test... passing...\n",
      "Column \"abandon_month\" not found in x_train... passing...\n",
      "Column \"abandon_month\" not found in x_test... passing...\n",
      "Column \"cur_year\" not found in x_train... passing...\n",
      "Column \"cur_year\" not found in x_test... passing...\n",
      "Column \"past\" not found in x_train... passing...\n",
      "Column \"past\" not found in x_test... passing...\n",
      "Column \"regimen\" not found in x_train... passing...\n",
      "Column \"regimen\" not found in x_test... passing...\n",
      "Column \"loan_has_subsudy\" not found in x_train... passing...\n",
      "Column \"loan_has_subsudy\" not found in x_test... passing...\n",
      "Column \"loan_voluntary_contrib_bool\" not found in x_train... passing...\n",
      "Column \"loan_voluntary_contrib_bool\" not found in x_test... passing...\n",
      "New shape after dropping:\n",
      ".x_train.shape = (1284875, 582)\n",
      ".y_train.shape = (1284875,)\n",
      ".x_test.shape = (930424, 582)\n",
      ".y_test.shape = (930424,)\n"
     ]
    }
   ],
   "source": [
    "# Drop non-feature columns by name\n",
    "exp.drop_cols(non_features)\n",
    "\n",
    "# Drop all columns that have any NA's in them\n",
    "# Can also pass 'row' to drop all rows with NA's in them\n",
    "exp.drop_nas('row')\n",
    "\n",
    "# Drop non-feature columns by name again incase they came back.....\n",
    "exp.drop_cols(non_features)"
   ]
  },
  {
   "cell_type": "code",
   "execution_count": null,
   "metadata": {
    "collapsed": false,
    "scrolled": true
   },
   "outputs": [],
   "source": [
    "# Convert all features to quantiles\n",
    "features_to_quantize = [feature for feature in list(exp.x_train) if not feature in non_quantize_features]\n",
    "\n",
    "# Get names of the new features\n",
    "quantile_features = [feature + \"_quantile\" for feature in features_to_quantize]\n",
    "\n",
    "# Make quantiles (5 buckets)\n",
    "exp.make_quantile_columns(features_to_quantize, 7)"
   ]
  },
  {
   "cell_type": "code",
   "execution_count": 12,
   "metadata": {
    "collapsed": false
   },
   "outputs": [
    {
     "name": "stdout",
     "output_type": "stream",
     "text": [
      ".x_train.shape = (1284875, 1150)\n",
      ".y_train.shape = (1284875,)\n",
      ".x_test.shape = (930424, 1150)\n",
      ".y_test.shape = (930424,)\n"
     ]
    }
   ],
   "source": [
    "exp.print_shape()"
   ]
  },
  {
   "cell_type": "code",
   "execution_count": null,
   "metadata": {
    "collapsed": false,
    "scrolled": false
   },
   "outputs": [],
   "source": [
    "# # note to self: Try svm w/ these interactions...\n",
    "# multiplicitive_features = ['personal_risk_index',\n",
    "#                            'personal_daily_wage',\n",
    "#                            'personal_age']\n",
    "\n",
    "# print \"Quantile features to be interacted with:\"\n",
    "# print quantile_features\n",
    "\n",
    "# print \"Multiplicative features:\"\n",
    "# print multiplicitive_features\n",
    "\n",
    "# for q_feature in quantile_features:\n",
    "#   for m_feature in multiplicitive_features:\n",
    "#     if m_feature in q_feature:\n",
    "#       continue\n",
    "\n",
    "#     new_feature = q_feature + \"_x_\" + m_feature +  \"_interaction\"\n",
    "\n",
    "#     try:\n",
    "#         exp.x_train[new_feature] = exp.x_train[q_feature] * exp.x_train[m_feature]\n",
    "#         exp.x_test[new_feature] = exp.x_test[q_feature] * exp.x_test[m_feature]\n",
    "#         print \"Created feature: {}\".format(new_feature)\n",
    "#     except KeyError:\n",
    "#         print \"Quantile feature doesnt exist. Probably didnt get made. Skipping interaction\""
   ]
  },
  {
   "cell_type": "code",
   "execution_count": 14,
   "metadata": {
    "collapsed": false
   },
   "outputs": [],
   "source": [
    "rfc = ensemble.RandomForestClassifier(n_estimators=2000, \n",
    "                                      max_depth=15, \n",
    "                                      n_jobs=30,\n",
    "                                      class_weight='subsample',\n",
    "                                      max_features='auto')"
   ]
  },
  {
   "cell_type": "code",
   "execution_count": null,
   "metadata": {
    "collapsed": true
   },
   "outputs": [],
   "source": [
    "rfc = rfc.fit(exp.x_train, exp.y_train)"
   ]
  },
  {
   "cell_type": "code",
   "execution_count": 19,
   "metadata": {
    "collapsed": false
   },
   "outputs": [
    {
     "name": "stdout",
     "output_type": "stream",
     "text": [
      "Testing model on x_test...\n",
      "Predicted probabilities for each test case saved in exp.y_test_pred_prob.\n"
     ]
    }
   ],
   "source": [
    "exp.test_model(rfc)"
   ]
  },
  {
   "cell_type": "code",
   "execution_count": 31,
   "metadata": {
    "collapsed": false
   },
   "outputs": [],
   "source": [
    "pred_real = pd.merge(pd.DataFrame(exp.y_test_pred_prob), pd.DataFrame(exp.y_test), left_index=True, right_index=True)"
   ]
  },
  {
   "cell_type": "code",
   "execution_count": 33,
   "metadata": {
    "collapsed": true
   },
   "outputs": [],
   "source": [
    "pred_real.columns = ['abandoned_pred', 'abandoned_y']"
   ]
  },
  {
   "cell_type": "code",
   "execution_count": 20,
   "metadata": {
    "collapsed": true
   },
   "outputs": [],
   "source": []
  },
  {
   "cell_type": "code",
   "execution_count": 22,
   "metadata": {
    "collapsed": true
   },
   "outputs": [],
   "source": []
  },
  {
   "cell_type": "code",
   "execution_count": 23,
   "metadata": {
    "collapsed": true
   },
   "outputs": [],
   "source": []
  },
  {
   "cell_type": "code",
   "execution_count": null,
   "metadata": {
    "collapsed": false
   },
   "outputs": [],
   "source": [
    "from sklearn import tree\n",
    "from sklearn.externals.six import StringIO\n",
    "from sklearn.tree import DecisionTreeRegressor\n",
    "\n",
    "# Compute difference between error and prediction\n",
    "y_diff = exp.y_test - exp.y_test_pred_prob\n",
    "\n",
    "# Train a range of decision trees on the errors\n",
    "for depth in [1, 2, 4, 6, 8, 10, 15, 20]:\n",
    "    print \"Training Decision tree of depth {} on errors...\".format(depth)\n",
    "    dc_err = DecisionTreeRegressor(max_depth=depth)\n",
    "\n",
    "    dc_err = dc_err.fit(exp.x_test, y_diff)\n",
    "\n",
    "    with open(\"dc_err_depth_{}.dot\".format(depth), 'w') as f:\n",
    "        f = tree.export_graphviz(dc_err, out_file=f)\n",
    "        \n",
    "# FINALLY: type \"dot -Tpng dc_err_depth_XXX.dot -o tree_XXX.png\"\n",
    "#          in terminal to convert dot to png"
   ]
  },
  {
   "cell_type": "code",
   "execution_count": 37,
   "metadata": {
    "collapsed": false
   },
   "outputs": [],
   "source": [
    "pred_real_colonia = pd.merge(pred_real, pd.DataFrame(colonias_test), left_index=True, right_index=True)\n",
    "# pred_real_regimen = pd.merge(pred_real, regimen_test, left_index=True, right_index=True)\n",
    "# pred_real_cve = pd.merge(pred_real, cve_test, left_index=True, right_index=True)"
   ]
  },
  {
   "cell_type": "code",
   "execution_count": 121,
   "metadata": {
    "collapsed": false
   },
   "outputs": [],
   "source": [
    "pred_real_by_colonia = pred_real_colonia.groupby('coloniaid')"
   ]
  },
  {
   "cell_type": "code",
   "execution_count": 105,
   "metadata": {
    "collapsed": false
   },
   "outputs": [],
   "source": [
    "a = pred_real_by_colonia['abandoned_y'].sum() / pred_real_by_colonia.size()"
   ]
  },
  {
   "cell_type": "code",
   "execution_count": 106,
   "metadata": {
    "collapsed": false
   },
   "outputs": [],
   "source": [
    "b = pred_real_by_colonia['abandoned_pred'].sum() / pred_real_by_colonia.size()"
   ]
  },
  {
   "cell_type": "code",
   "execution_count": 120,
   "metadata": {
    "collapsed": false
   },
   "outputs": [
    {
     "data": {
      "text/plain": [
       "abandoned_pred    0.01429\n",
       "abandoned_y       0.01429\n",
       "dtype: float64"
      ]
     },
     "execution_count": 120,
     "metadata": {},
     "output_type": "execute_result"
    }
   ],
   "source": [
    "pred_real['abandoned_y'].sum() / pred_real.count()"
   ]
  },
  {
   "cell_type": "code",
   "execution_count": 107,
   "metadata": {
    "collapsed": false
   },
   "outputs": [],
   "source": [
    "a.sort(ascending=False)\n",
    "b.sort(ascending=False)"
   ]
  },
  {
   "cell_type": "code",
   "execution_count": 118,
   "metadata": {
    "collapsed": false
   },
   "outputs": [
    {
     "data": {
      "text/plain": [
       "362"
      ]
     },
     "execution_count": 118,
     "metadata": {},
     "output_type": "execute_result"
    }
   ],
   "source": [
    "(pred_real_by_colonia.size() == 1).sum()"
   ]
  },
  {
   "cell_type": "code",
   "execution_count": 22,
   "metadata": {
    "collapsed": false,
    "scrolled": true
   },
   "outputs": [
    {
     "data": {
      "text/plain": [
       "1.0"
      ]
     },
     "execution_count": 22,
     "metadata": {},
     "output_type": "execute_result"
    }
   ],
   "source": [
    "rfc.score(exp.x_train, exp.y_train)"
   ]
  },
  {
   "cell_type": "code",
   "execution_count": 23,
   "metadata": {
    "collapsed": false,
    "scrolled": true
   },
   "outputs": [
    {
     "data": {
      "text/plain": [
       "0.53651845518027652"
      ]
     },
     "execution_count": 23,
     "metadata": {},
     "output_type": "execute_result"
    }
   ],
   "source": [
    "rfc.score(exp.x_test, exp.y_test)"
   ]
  },
  {
   "cell_type": "code",
   "execution_count": null,
   "metadata": {
    "collapsed": false,
    "scrolled": true
   },
   "outputs": [
    {
     "name": "stdout",
     "output_type": "stream",
     "text": [
      "Writing evaluation html document for RandomForestClassifier\n",
      "Evaluation document written to ./model_results/RFC_big_main_20150818_222014.html"
     ]
    }
   ],
   "source": [
    "exp.eval_model(rfc, \"./model_results/RFC_med_main.html\")"
   ]
  },
  {
   "cell_type": "code",
   "execution_count": null,
   "metadata": {
    "collapsed": true
   },
   "outputs": [],
   "source": []
  }
 ],
 "metadata": {
  "kernelspec": {
   "display_name": "Python 2",
   "language": "python",
   "name": "python2"
  },
  "language_info": {
   "codemirror_mode": {
    "name": "ipython",
    "version": 2
   },
   "file_extension": ".py",
   "mimetype": "text/x-python",
   "name": "python",
   "nbconvert_exporter": "python",
   "pygments_lexer": "ipython2",
   "version": "2.7.8"
  }
 },
 "nbformat": 4,
 "nbformat_minor": 0
}
