{
 "cells": [
  {
   "cell_type": "code",
   "execution_count": null,
   "metadata": {
    "collapsed": true
   },
   "outputs": [],
   "source": [
    "def summary_stats(x_df, y_df)\n",
    "#TO DO: How do we get the coloniaid's in the dataframe? \n",
    "#How do the original indices work for selecting the rows that are used?\n",
    "#Question: Can we save the index of rows we do not preprocess off & the list of colonias for the loans\n",
    "#Pass this in? \n",
    "\n",
    "\n",
    "#add in other summary_var's later\n",
    "#x_df is data frame which containts coloniaid (later make it any other variable to groupby)\n",
    "#y_df is label, i.e, abandoned or not abandoned\n",
    "#summary_var is another variable to summarize in addition to abandoned counts\n",
    "\n",
    "\n",
    "#combine columns we need in a dataframe\n",
    "\n",
    "new_df = pd.DataFrame(x_df[['coloniaid']])\n",
    "new_df['abandoned'] = y_df\n",
    "\n",
    "#groupby the variable of interest and calculate sum and counts\n",
    "#save aggregate calculations in another dataframe\n",
    "\n",
    "summary_df = pd.DataFrame(new_df.groupby('coloniaid').count())\n",
    "     #count column is named 'coloniaid'\n",
    "summary_df.rename(columns = {'coloniaid': 'total count'}, inplace = True)\n",
    "summary_df['number_abandoned'] = new_df.groupby('coloniaid').sum()\n",
    "summary_df['percent_abandoned']= summary_df['number_abandoned']/summary_df['total_count']\n",
    "\n",
    "\n",
    "#make quantile cuts, can use labels or keep the original intervals\n",
    "\n",
    "summary_df['colonia_count_rank'] = pd.qcut(summary_df['total_count'], 10, labels = [ \"percentile 10\", \"percentile 20\", \"percentile 30\", \"percentile 40\", \"percentile 50\", \"percentile 60\", \"percentile 70\", \"percentile 80\", \"percentile 90\", \"percentile 100\" ] )\n",
    "summary_df['abandonment_rank']=pd.qcut(summary_df['percent_abandoned'], 10, labels = [ \"percentile 10\", \"percentile 20\", \"percentile 30\", \"percentile 40\", \"percentile 50\", \"percentile 60\", \"percentile 70\", \"percentile 80\", \"percentile 90\", \"percentile 100\" ])\n",
    "#need to add in error handling: may not have 10 distinct grouping based on rank\n",
    "#perhaps decrease until we can, and dynamically change or generate the labels\n",
    "\n",
    "#select labels of interest\n",
    "\n",
    "high_abandonment = summary_df[summary_df['abandonment_rank']== 'percentile 100']\n",
    "low_count = summary_df[summary_df['colonia_count_rank']== 'percentile 10']\n",
    "\n",
    "#Add later:\n",
    "#crosstabs\n",
    "#flexible quantiles\n",
    "#other variables (to groupby or summarize) or discretize in grouping for counting\n",
    "#thresholds\n",
    "\n",
    "return high_abandonment, low_count, summary_df\n",
    "#summary_df: coloniaid, total count, number abandoned, percent abandoned, colonia_count_rank, abandonment_rank\n",
    "#low_count: subset of the lowest 10 percentile of colonia counts\n",
    "#high_abandonment: subset of the highest abandonment percent\n"
   ]
  }
 ],
 "metadata": {
  "kernelspec": {
   "display_name": "Python 2",
   "language": "python",
   "name": "python2"
  },
  "language_info": {
   "codemirror_mode": {
    "name": "ipython",
    "version": 2
   },
   "file_extension": ".py",
   "mimetype": "text/x-python",
   "name": "python",
   "nbconvert_exporter": "python",
   "pygments_lexer": "ipython2",
   "version": "2.7.10"
  }
 },
 "nbformat": 4,
 "nbformat_minor": 0
}
