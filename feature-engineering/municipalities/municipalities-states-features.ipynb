{
 "cells": [
  {
   "cell_type": "code",
   "execution_count": 4,
   "metadata": {
    "collapsed": false
   },
   "outputs": [
    {
     "name": "stderr",
     "output_type": "stream",
     "text": [
      "Loading required package: DBI\n"
     ]
    }
   ],
   "source": [
    "library(RPostgreSQL)\n",
    "library(ggplot2)"
   ]
  },
  {
   "cell_type": "code",
   "execution_count": 5,
   "metadata": {
    "collapsed": false
   },
   "outputs": [],
   "source": [
    "m <- read.csv(\"../../preprocessing/municipalities_and_states/municipalities_preprocessed.csv\",\n",
    "             colClasses=\"character\")"
   ]
  },
  {
   "cell_type": "code",
   "execution_count": 6,
   "metadata": {
    "collapsed": false
   },
   "outputs": [],
   "source": [
    "hdi <- read.csv(\"../../preprocessing/human_development_index/hdi_preprocessed.csv\",\n",
    "                colClasses=c(\"cve\"=\"character\",\n",
    "                            \"cve_ent\"=\"character\",\n",
    "                            \"cve_mun\"=\"character\"))"
   ]
  },
  {
   "cell_type": "code",
   "execution_count": 7,
   "metadata": {
    "collapsed": false
   },
   "outputs": [
    {
     "data": {
      "text/html": [
       "<table>\n",
       "<thead><tr><th></th><th scope=col>cve_ent</th><th scope=col>cve_mun</th><th scope=col>nom_mun</th><th scope=col>cve</th></tr></thead>\n",
       "<tbody>\n",
       "\t<tr><th scope=row>1</th><td>17</td><td>001</td><td>amacuzac</td><td>17001</td></tr>\n",
       "\t<tr><th scope=row>2</th><td>17</td><td>002</td><td>atlatlahucan</td><td>17002</td></tr>\n",
       "\t<tr><th scope=row>3</th><td>17</td><td>003</td><td>axochiapan</td><td>17003</td></tr>\n",
       "\t<tr><th scope=row>4</th><td>17</td><td>004</td><td>ayala</td><td>17004</td></tr>\n",
       "\t<tr><th scope=row>5</th><td>17</td><td>005</td><td>coatlan del rio</td><td>17005</td></tr>\n",
       "\t<tr><th scope=row>6</th><td>17</td><td>006</td><td>cuautla</td><td>17006</td></tr>\n",
       "</tbody>\n",
       "</table>\n"
      ],
      "text/latex": [
       "\\begin{tabular}{r|llll}\n",
       "  & cve_ent & cve_mun & nom_mun & cve\\\\\n",
       "\\hline\n",
       "\t1 & 17 & 001 & amacuzac & 17001\\\\\n",
       "\t2 & 17 & 002 & atlatlahucan & 17002\\\\\n",
       "\t3 & 17 & 003 & axochiapan & 17003\\\\\n",
       "\t4 & 17 & 004 & ayala & 17004\\\\\n",
       "\t5 & 17 & 005 & coatlan del rio & 17005\\\\\n",
       "\t6 & 17 & 006 & cuautla & 17006\\\\\n",
       "\\end{tabular}\n"
      ],
      "text/plain": [
       "  cve_ent cve_mun         nom_mun   cve\n",
       "1      17     001        amacuzac 17001\n",
       "2      17     002    atlatlahucan 17002\n",
       "3      17     003      axochiapan 17003\n",
       "4      17     004           ayala 17004\n",
       "5      17     005 coatlan del rio 17005\n",
       "6      17     006         cuautla 17006"
      ]
     },
     "execution_count": 7,
     "metadata": {},
     "output_type": "execute_result"
    },
    {
     "data": {
      "text/html": [
       "<table>\n",
       "<thead><tr><th></th><th scope=col>cve</th><th scope=col>cve_ent</th><th scope=col>cve_mun</th><th scope=col>nom_ent</th><th scope=col>nom_mun</th><th scope=col>avg_years_schooling</th><th scope=col>expected_years_schooling</th><th scope=col>income_per_capita</th><th scope=col>infant_mortality_rate</th><th scope=col>education_index</th><th scope=col>income_index</th><th scope=col>healthcare_index</th><th scope=col>hdi_index</th></tr></thead>\n",
       "<tbody>\n",
       "\t<tr><th scope=row>1</th><td>01001</td><td>01</td><td>001</td><td>aguascalientes</td><td>aguascalientes</td><td>9.553</td><td>12.87</td><td>17848.29</td><td>10.296</td><td>0.738</td><td>0.743</td><td>0.897</td><td>0.789</td></tr>\n",
       "\t<tr><th scope=row>2</th><td>01002</td><td>01</td><td>002</td><td>aguascalientes</td><td>asientos</td><td>6.23</td><td>11.136</td><td>6877.029</td><td>13.211</td><td>0.555</td><td>0.606</td><td>0.861</td><td>0.662</td></tr>\n",
       "\t<tr><th scope=row>3</th><td>01003</td><td>01</td><td>003</td><td>aguascalientes</td><td>calvillo</td><td>5.957</td><td>10.893</td><td>8764.943</td><td>12.229</td><td>0.536</td><td>0.641</td><td>0.873</td><td>0.67</td></tr>\n",
       "\t<tr><th scope=row>4</th><td>01004</td><td>01</td><td>004</td><td>aguascalientes</td><td>cosio</td><td>7.007</td><td>11.851</td><td>9123.24</td><td>12.184</td><td>0.607</td><td>0.646</td><td>0.874</td><td>0.7</td></tr>\n",
       "\t<tr><th scope=row>5</th><td>01005</td><td>01</td><td>005</td><td>aguascalientes</td><td>jesus maria</td><td>8.155</td><td>11.533</td><td>12156.48</td><td>13.972</td><td>0.646</td><td>0.688</td><td>0.852</td><td>0.723</td></tr>\n",
       "\t<tr><th scope=row>6</th><td>01006</td><td>01</td><td>006</td><td>aguascalientes</td><td>pabellon de arteaga</td><td>8.197</td><td>12.22</td><td>12556.7</td><td>11.963</td><td>0.666</td><td>0.692</td><td>0.877</td><td>0.74</td></tr>\n",
       "</tbody>\n",
       "</table>\n"
      ],
      "text/latex": [
       "\\begin{tabular}{r|lllllllllllll}\n",
       "  & cve & cve_ent & cve_mun & nom_ent & nom_mun & avg_years_schooling & expected_years_schooling & income_per_capita & infant_mortality_rate & education_index & income_index & healthcare_index & hdi_index\\\\\n",
       "\\hline\n",
       "\t1 & 01001 & 01 & 001 & aguascalientes & aguascalientes & 9.553 & 12.87 & 17848.29 & 10.296 & 0.738 & 0.743 & 0.897 & 0.789\\\\\n",
       "\t2 & 01002 & 01 & 002 & aguascalientes & asientos & 6.23 & 11.136 & 6877.029 & 13.211 & 0.555 & 0.606 & 0.861 & 0.662\\\\\n",
       "\t3 & 01003 & 01 & 003 & aguascalientes & calvillo & 5.957 & 10.893 & 8764.943 & 12.229 & 0.536 & 0.641 & 0.873 & 0.67\\\\\n",
       "\t4 & 01004 & 01 & 004 & aguascalientes & cosio & 7.007 & 11.851 & 9123.24 & 12.184 & 0.607 & 0.646 & 0.874 & 0.7\\\\\n",
       "\t5 & 01005 & 01 & 005 & aguascalientes & jesus maria & 8.155 & 11.533 & 12156.48 & 13.972 & 0.646 & 0.688 & 0.852 & 0.723\\\\\n",
       "\t6 & 01006 & 01 & 006 & aguascalientes & pabellon de arteaga & 8.197 & 12.22 & 12556.7 & 11.963 & 0.666 & 0.692 & 0.877 & 0.74\\\\\n",
       "\\end{tabular}\n"
      ],
      "text/plain": [
       "    cve cve_ent cve_mun        nom_ent             nom_mun avg_years_schooling\n",
       "1 01001      01     001 aguascalientes      aguascalientes               9.553\n",
       "2 01002      01     002 aguascalientes            asientos               6.230\n",
       "3 01003      01     003 aguascalientes            calvillo               5.957\n",
       "4 01004      01     004 aguascalientes               cosio               7.007\n",
       "5 01005      01     005 aguascalientes         jesus maria               8.155\n",
       "6 01006      01     006 aguascalientes pabellon de arteaga               8.197\n",
       "  expected_years_schooling income_per_capita infant_mortality_rate\n",
       "1                   12.870         17848.288                10.296\n",
       "2                   11.136          6877.029                13.211\n",
       "3                   10.893          8764.943                12.229\n",
       "4                   11.851          9123.240                12.184\n",
       "5                   11.533         12156.482                13.972\n",
       "6                   12.220         12556.698                11.963\n",
       "  education_index income_index healthcare_index hdi_index\n",
       "1           0.738        0.743            0.897     0.789\n",
       "2           0.555        0.606            0.861     0.662\n",
       "3           0.536        0.641            0.873     0.670\n",
       "4           0.607        0.646            0.874     0.700\n",
       "5           0.646        0.688            0.852     0.723\n",
       "6           0.666        0.692            0.877     0.740"
      ]
     },
     "execution_count": 7,
     "metadata": {},
     "output_type": "execute_result"
    }
   ],
   "source": [
    "head(m); head(hdi)"
   ]
  },
  {
   "cell_type": "code",
   "execution_count": 8,
   "metadata": {
    "collapsed": false
   },
   "outputs": [
    {
     "data": {
      "text/html": [
       "<table>\n",
       "<thead><tr><th></th><th scope=col>cve</th><th scope=col>cve_ent</th><th scope=col>cve_mun</th><th scope=col>nom_ent</th><th scope=col>nom_mun</th><th scope=col>avg_years_schooling</th><th scope=col>expected_years_schooling</th><th scope=col>income_per_capita</th><th scope=col>infant_mortality_rate</th><th scope=col>education_index</th><th scope=col>income_index</th><th scope=col>healthcare_index</th><th scope=col>hdi_index</th></tr></thead>\n",
       "<tbody>\n",
       "\t<tr><th scope=row>1</th><td>01001</td><td>01</td><td>001</td><td>aguascalientes</td><td>aguascalientes</td><td>9.553</td><td>12.87</td><td>17848.29</td><td>10.296</td><td>0.738</td><td>0.743</td><td>0.897</td><td>0.789</td></tr>\n",
       "\t<tr><th scope=row>2</th><td>01002</td><td>01</td><td>002</td><td>aguascalientes</td><td>asientos</td><td>6.23</td><td>11.136</td><td>6877.029</td><td>13.211</td><td>0.555</td><td>0.606</td><td>0.861</td><td>0.662</td></tr>\n",
       "\t<tr><th scope=row>3</th><td>01003</td><td>01</td><td>003</td><td>aguascalientes</td><td>calvillo</td><td>5.957</td><td>10.893</td><td>8764.943</td><td>12.229</td><td>0.536</td><td>0.641</td><td>0.873</td><td>0.67</td></tr>\n",
       "\t<tr><th scope=row>4</th><td>01004</td><td>01</td><td>004</td><td>aguascalientes</td><td>cosio</td><td>7.007</td><td>11.851</td><td>9123.24</td><td>12.184</td><td>0.607</td><td>0.646</td><td>0.874</td><td>0.7</td></tr>\n",
       "\t<tr><th scope=row>5</th><td>01005</td><td>01</td><td>005</td><td>aguascalientes</td><td>jesus maria</td><td>8.155</td><td>11.533</td><td>12156.48</td><td>13.972</td><td>0.646</td><td>0.688</td><td>0.852</td><td>0.723</td></tr>\n",
       "\t<tr><th scope=row>6</th><td>01006</td><td>01</td><td>006</td><td>aguascalientes</td><td>pabellon de arteaga</td><td>8.197</td><td>12.22</td><td>12556.7</td><td>11.963</td><td>0.666</td><td>0.692</td><td>0.877</td><td>0.74</td></tr>\n",
       "</tbody>\n",
       "</table>\n"
      ],
      "text/latex": [
       "\\begin{tabular}{r|lllllllllllll}\n",
       "  & cve & cve_ent & cve_mun & nom_ent & nom_mun & avg_years_schooling & expected_years_schooling & income_per_capita & infant_mortality_rate & education_index & income_index & healthcare_index & hdi_index\\\\\n",
       "\\hline\n",
       "\t1 & 01001 & 01 & 001 & aguascalientes & aguascalientes & 9.553 & 12.87 & 17848.29 & 10.296 & 0.738 & 0.743 & 0.897 & 0.789\\\\\n",
       "\t2 & 01002 & 01 & 002 & aguascalientes & asientos & 6.23 & 11.136 & 6877.029 & 13.211 & 0.555 & 0.606 & 0.861 & 0.662\\\\\n",
       "\t3 & 01003 & 01 & 003 & aguascalientes & calvillo & 5.957 & 10.893 & 8764.943 & 12.229 & 0.536 & 0.641 & 0.873 & 0.67\\\\\n",
       "\t4 & 01004 & 01 & 004 & aguascalientes & cosio & 7.007 & 11.851 & 9123.24 & 12.184 & 0.607 & 0.646 & 0.874 & 0.7\\\\\n",
       "\t5 & 01005 & 01 & 005 & aguascalientes & jesus maria & 8.155 & 11.533 & 12156.48 & 13.972 & 0.646 & 0.688 & 0.852 & 0.723\\\\\n",
       "\t6 & 01006 & 01 & 006 & aguascalientes & pabellon de arteaga & 8.197 & 12.22 & 12556.7 & 11.963 & 0.666 & 0.692 & 0.877 & 0.74\\\\\n",
       "\\end{tabular}\n"
      ],
      "text/plain": [
       "    cve cve_ent cve_mun        nom_ent             nom_mun avg_years_schooling\n",
       "1 01001      01     001 aguascalientes      aguascalientes               9.553\n",
       "2 01002      01     002 aguascalientes            asientos               6.230\n",
       "3 01003      01     003 aguascalientes            calvillo               5.957\n",
       "4 01004      01     004 aguascalientes               cosio               7.007\n",
       "5 01005      01     005 aguascalientes         jesus maria               8.155\n",
       "6 01006      01     006 aguascalientes pabellon de arteaga               8.197\n",
       "  expected_years_schooling income_per_capita infant_mortality_rate\n",
       "1                   12.870         17848.288                10.296\n",
       "2                   11.136          6877.029                13.211\n",
       "3                   10.893          8764.943                12.229\n",
       "4                   11.851          9123.240                12.184\n",
       "5                   11.533         12156.482                13.972\n",
       "6                   12.220         12556.698                11.963\n",
       "  education_index income_index healthcare_index hdi_index\n",
       "1           0.738        0.743            0.897     0.789\n",
       "2           0.555        0.606            0.861     0.662\n",
       "3           0.536        0.641            0.873     0.670\n",
       "4           0.607        0.646            0.874     0.700\n",
       "5           0.646        0.688            0.852     0.723\n",
       "6           0.666        0.692            0.877     0.740"
      ]
     },
     "execution_count": 8,
     "metadata": {},
     "output_type": "execute_result"
    }
   ],
   "source": [
    "index <- hdi#[,c(\"cve\", \"hdi_index\")]\n",
    "head(index)"
   ]
  },
  {
   "cell_type": "code",
   "execution_count": 9,
   "metadata": {
    "collapsed": false
   },
   "outputs": [],
   "source": [
    "m <- merge(m, index)"
   ]
  },
  {
   "cell_type": "code",
   "execution_count": 10,
   "metadata": {
    "collapsed": false
   },
   "outputs": [
    {
     "data": {
      "text/html": [
       "<table>\n",
       "<thead><tr><th></th><th scope=col>cve_ent</th><th scope=col>cve_mun</th><th scope=col>nom_mun</th><th scope=col>cve</th><th scope=col>nom_ent</th><th scope=col>avg_years_schooling</th><th scope=col>expected_years_schooling</th><th scope=col>income_per_capita</th><th scope=col>infant_mortality_rate</th><th scope=col>education_index</th><th scope=col>income_index</th><th scope=col>healthcare_index</th><th scope=col>hdi_index</th></tr></thead>\n",
       "<tbody>\n",
       "\t<tr><th scope=row>1</th><td>01</td><td>001</td><td>aguascalientes</td><td>01001</td><td>aguascalientes</td><td>9.553</td><td>12.87</td><td>17848.29</td><td>10.296</td><td>0.738</td><td>0.743</td><td>0.897</td><td>0.789</td></tr>\n",
       "\t<tr><th scope=row>2</th><td>01</td><td>002</td><td>asientos</td><td>01002</td><td>aguascalientes</td><td>6.23</td><td>11.136</td><td>6877.029</td><td>13.211</td><td>0.555</td><td>0.606</td><td>0.861</td><td>0.662</td></tr>\n",
       "\t<tr><th scope=row>3</th><td>01</td><td>003</td><td>calvillo</td><td>01003</td><td>aguascalientes</td><td>5.957</td><td>10.893</td><td>8764.943</td><td>12.229</td><td>0.536</td><td>0.641</td><td>0.873</td><td>0.67</td></tr>\n",
       "\t<tr><th scope=row>4</th><td>01</td><td>004</td><td>cosio</td><td>01004</td><td>aguascalientes</td><td>7.007</td><td>11.851</td><td>9123.24</td><td>12.184</td><td>0.607</td><td>0.646</td><td>0.874</td><td>0.7</td></tr>\n",
       "\t<tr><th scope=row>5</th><td>01</td><td>005</td><td>jesus maria</td><td>01005</td><td>aguascalientes</td><td>8.155</td><td>11.533</td><td>12156.48</td><td>13.972</td><td>0.646</td><td>0.688</td><td>0.852</td><td>0.723</td></tr>\n",
       "\t<tr><th scope=row>6</th><td>01</td><td>006</td><td>pabellon de arteaga</td><td>01006</td><td>aguascalientes</td><td>8.197</td><td>12.22</td><td>12556.7</td><td>11.963</td><td>0.666</td><td>0.692</td><td>0.877</td><td>0.74</td></tr>\n",
       "</tbody>\n",
       "</table>\n"
      ],
      "text/latex": [
       "\\begin{tabular}{r|lllllllllllll}\n",
       "  & cve_ent & cve_mun & nom_mun & cve & nom_ent & avg_years_schooling & expected_years_schooling & income_per_capita & infant_mortality_rate & education_index & income_index & healthcare_index & hdi_index\\\\\n",
       "\\hline\n",
       "\t1 & 01 & 001 & aguascalientes & 01001 & aguascalientes & 9.553 & 12.87 & 17848.29 & 10.296 & 0.738 & 0.743 & 0.897 & 0.789\\\\\n",
       "\t2 & 01 & 002 & asientos & 01002 & aguascalientes & 6.23 & 11.136 & 6877.029 & 13.211 & 0.555 & 0.606 & 0.861 & 0.662\\\\\n",
       "\t3 & 01 & 003 & calvillo & 01003 & aguascalientes & 5.957 & 10.893 & 8764.943 & 12.229 & 0.536 & 0.641 & 0.873 & 0.67\\\\\n",
       "\t4 & 01 & 004 & cosio & 01004 & aguascalientes & 7.007 & 11.851 & 9123.24 & 12.184 & 0.607 & 0.646 & 0.874 & 0.7\\\\\n",
       "\t5 & 01 & 005 & jesus maria & 01005 & aguascalientes & 8.155 & 11.533 & 12156.48 & 13.972 & 0.646 & 0.688 & 0.852 & 0.723\\\\\n",
       "\t6 & 01 & 006 & pabellon de arteaga & 01006 & aguascalientes & 8.197 & 12.22 & 12556.7 & 11.963 & 0.666 & 0.692 & 0.877 & 0.74\\\\\n",
       "\\end{tabular}\n"
      ],
      "text/plain": [
       "  cve_ent cve_mun             nom_mun   cve        nom_ent avg_years_schooling\n",
       "1      01     001      aguascalientes 01001 aguascalientes               9.553\n",
       "2      01     002            asientos 01002 aguascalientes               6.230\n",
       "3      01     003            calvillo 01003 aguascalientes               5.957\n",
       "4      01     004               cosio 01004 aguascalientes               7.007\n",
       "5      01     005         jesus maria 01005 aguascalientes               8.155\n",
       "6      01     006 pabellon de arteaga 01006 aguascalientes               8.197\n",
       "  expected_years_schooling income_per_capita infant_mortality_rate\n",
       "1                   12.870         17848.288                10.296\n",
       "2                   11.136          6877.029                13.211\n",
       "3                   10.893          8764.943                12.229\n",
       "4                   11.851          9123.240                12.184\n",
       "5                   11.533         12156.482                13.972\n",
       "6                   12.220         12556.698                11.963\n",
       "  education_index income_index healthcare_index hdi_index\n",
       "1           0.738        0.743            0.897     0.789\n",
       "2           0.555        0.606            0.861     0.662\n",
       "3           0.536        0.641            0.873     0.670\n",
       "4           0.607        0.646            0.874     0.700\n",
       "5           0.646        0.688            0.852     0.723\n",
       "6           0.666        0.692            0.877     0.740"
      ]
     },
     "execution_count": 10,
     "metadata": {},
     "output_type": "execute_result"
    }
   ],
   "source": [
    "head(m)"
   ]
  },
  {
   "cell_type": "code",
   "execution_count": 11,
   "metadata": {
    "collapsed": false
   },
   "outputs": [],
   "source": [
    "#https://en.wikipedia.org/?title=List_of_countries_by_Human_Development_Index\n",
    "classify_hdi <- function(index) {\n",
    " if (index >= 0.8) \"very high\"\n",
    " else if (index >= 0.7) \"high\"\n",
    " else if (index >= 0.55) \"medium\"\n",
    " else \"low\"\n",
    "}"
   ]
  },
  {
   "cell_type": "code",
   "execution_count": 12,
   "metadata": {
    "collapsed": false
   },
   "outputs": [],
   "source": [
    "m$hdi_class <- unlist(lapply(m$hdi_index, classify_hdi))"
   ]
  },
  {
   "cell_type": "code",
   "execution_count": 13,
   "metadata": {
    "collapsed": false
   },
   "outputs": [],
   "source": [
    "zones <- read.csv(\"states_geo_zones.csv\", colClasses=\"character\", skip=1)"
   ]
  },
  {
   "cell_type": "code",
   "execution_count": 14,
   "metadata": {
    "collapsed": false
   },
   "outputs": [
    {
     "data": {
      "text/html": [
       "<table>\n",
       "<thead><tr><th></th><th scope=col>cve_ent</th><th scope=col>nom_ent</th><th scope=col>cve_mun</th><th scope=col>nom_mun</th><th scope=col>cve</th><th scope=col>avg_years_schooling</th><th scope=col>expected_years_schooling</th><th scope=col>income_per_capita</th><th scope=col>infant_mortality_rate</th><th scope=col>education_index</th><th scope=col>income_index</th><th scope=col>healthcare_index</th><th scope=col>hdi_index</th><th scope=col>hdi_class</th><th scope=col>geo_zone</th></tr></thead>\n",
       "<tbody>\n",
       "\t<tr><th scope=row>1</th><td>01</td><td>aguascalientes</td><td>009</td><td>tepezala</td><td>01009</td><td>6.463</td><td>11.736</td><td>8264.155</td><td>14.95</td><td>0.58</td><td>0.632</td><td>0.84</td><td>0.675</td><td>medium</td><td>north-central</td></tr>\n",
       "\t<tr><th scope=row>2</th><td>01</td><td>aguascalientes</td><td>005</td><td>jesus maria</td><td>01005</td><td>8.155</td><td>11.533</td><td>12156.48</td><td>13.972</td><td>0.646</td><td>0.688</td><td>0.852</td><td>0.723</td><td>high</td><td>north-central</td></tr>\n",
       "\t<tr><th scope=row>3</th><td>01</td><td>aguascalientes</td><td>008</td><td>san jose de gracia</td><td>01008</td><td>7.225</td><td>11.9</td><td>9257.589</td><td>15.329</td><td>0.617</td><td>0.649</td><td>0.835</td><td>0.694</td><td>medium</td><td>north-central</td></tr>\n",
       "\t<tr><th scope=row>4</th><td>01</td><td>aguascalientes</td><td>003</td><td>calvillo</td><td>01003</td><td>5.957</td><td>10.893</td><td>8764.943</td><td>12.229</td><td>0.536</td><td>0.641</td><td>0.873</td><td>0.67</td><td>medium</td><td>north-central</td></tr>\n",
       "\t<tr><th scope=row>5</th><td>01</td><td>aguascalientes</td><td>010</td><td>el llano</td><td>01010</td><td>5.975</td><td>10.68</td><td>7581.742</td><td>12.124</td><td>0.532</td><td>0.62</td><td>0.875</td><td>0.661</td><td>medium</td><td>north-central</td></tr>\n",
       "\t<tr><th scope=row>6</th><td>01</td><td>aguascalientes</td><td>011</td><td>san francisco de los romo</td><td>01011</td><td>7.954</td><td>11.32</td><td>11283.69</td><td>13.104</td><td>0.632</td><td>0.677</td><td>0.863</td><td>0.717</td><td>high</td><td>north-central</td></tr>\n",
       "</tbody>\n",
       "</table>\n"
      ],
      "text/latex": [
       "\\begin{tabular}{r|lllllllllllllll}\n",
       "  & cve_ent & nom_ent & cve_mun & nom_mun & cve & avg_years_schooling & expected_years_schooling & income_per_capita & infant_mortality_rate & education_index & income_index & healthcare_index & hdi_index & hdi_class & geo_zone\\\\\n",
       "\\hline\n",
       "\t1 & 01 & aguascalientes & 009 & tepezala & 01009 & 6.463 & 11.736 & 8264.155 & 14.95 & 0.58 & 0.632 & 0.84 & 0.675 & medium & north-central\\\\\n",
       "\t2 & 01 & aguascalientes & 005 & jesus maria & 01005 & 8.155 & 11.533 & 12156.48 & 13.972 & 0.646 & 0.688 & 0.852 & 0.723 & high & north-central\\\\\n",
       "\t3 & 01 & aguascalientes & 008 & san jose de gracia & 01008 & 7.225 & 11.9 & 9257.589 & 15.329 & 0.617 & 0.649 & 0.835 & 0.694 & medium & north-central\\\\\n",
       "\t4 & 01 & aguascalientes & 003 & calvillo & 01003 & 5.957 & 10.893 & 8764.943 & 12.229 & 0.536 & 0.641 & 0.873 & 0.67 & medium & north-central\\\\\n",
       "\t5 & 01 & aguascalientes & 010 & el llano & 01010 & 5.975 & 10.68 & 7581.742 & 12.124 & 0.532 & 0.62 & 0.875 & 0.661 & medium & north-central\\\\\n",
       "\t6 & 01 & aguascalientes & 011 & san francisco de los romo & 01011 & 7.954 & 11.32 & 11283.69 & 13.104 & 0.632 & 0.677 & 0.863 & 0.717 & high & north-central\\\\\n",
       "\\end{tabular}\n"
      ],
      "text/plain": [
       "  cve_ent        nom_ent cve_mun                   nom_mun   cve\n",
       "1      01 aguascalientes     009                  tepezala 01009\n",
       "2      01 aguascalientes     005               jesus maria 01005\n",
       "3      01 aguascalientes     008        san jose de gracia 01008\n",
       "4      01 aguascalientes     003                  calvillo 01003\n",
       "5      01 aguascalientes     010                  el llano 01010\n",
       "6      01 aguascalientes     011 san francisco de los romo 01011\n",
       "  avg_years_schooling expected_years_schooling income_per_capita\n",
       "1               6.463                   11.736          8264.155\n",
       "2               8.155                   11.533         12156.482\n",
       "3               7.225                   11.900          9257.589\n",
       "4               5.957                   10.893          8764.943\n",
       "5               5.975                   10.680          7581.742\n",
       "6               7.954                   11.320         11283.695\n",
       "  infant_mortality_rate education_index income_index healthcare_index hdi_index\n",
       "1                14.950           0.580        0.632            0.840     0.675\n",
       "2                13.972           0.646        0.688            0.852     0.723\n",
       "3                15.329           0.617        0.649            0.835     0.694\n",
       "4                12.229           0.536        0.641            0.873     0.670\n",
       "5                12.124           0.532        0.620            0.875     0.661\n",
       "6                13.104           0.632        0.677            0.863     0.717\n",
       "  hdi_class      geo_zone\n",
       "1    medium north-central\n",
       "2      high north-central\n",
       "3    medium north-central\n",
       "4    medium north-central\n",
       "5    medium north-central\n",
       "6      high north-central"
      ]
     },
     "execution_count": 14,
     "metadata": {},
     "output_type": "execute_result"
    }
   ],
   "source": [
    "m <- merge(m, zones)\n",
    "head(m)"
   ]
  },
  {
   "cell_type": "code",
   "execution_count": 15,
   "metadata": {
    "collapsed": true
   },
   "outputs": [],
   "source": [
    "write.csv(m, \"municipalities_features.csv\", row.names=FALSE)"
   ]
  },
  {
   "cell_type": "code",
   "execution_count": null,
   "metadata": {
    "collapsed": true
   },
   "outputs": [],
   "source": []
  }
 ],
 "metadata": {
  "kernelspec": {
   "display_name": "R",
   "language": "R",
   "name": "ir"
  },
  "language_info": {
   "codemirror_mode": "r",
   "file_extension": ".r",
   "mimetype": "text/x-r-source",
   "name": "R",
   "pygments_lexer": "r",
   "version": "3.2.0"
  }
 },
 "nbformat": 4,
 "nbformat_minor": 0
}
